{
 "cells": [
  {
   "cell_type": "markdown",
   "metadata": {},
   "source": [
    "# FairMOT Training in Amazon SageMaker\n",
    "\n",
    "This notebook demonstrates how to train a [FairMOT](https://arxiv.org/abs/2004.01888) model with SageMaker and tune hyper-parameters with [SageMaker Hyperparameter tuning job](https://docs.aws.amazon.com/sagemaker/latest/dg/automatic-model-tuning.html)."
   ]
  },
  {
   "cell_type": "markdown",
   "metadata": {},
   "source": [
    "## 1. SageMaker Initialization \n",
    "First we upgrade SageMaker to the latest version. If your notebook is already using the latest SageMaker 2.x API, you may skip the next cell."
   ]
  },
  {
   "cell_type": "code",
   "execution_count": null,
   "metadata": {
    "scrolled": true
   },
   "outputs": [],
   "source": [
    "! pip install --upgrade pip\n",
    "! python3 -m pip install --upgrade sagemaker"
   ]
  },
  {
   "cell_type": "code",
   "execution_count": null,
   "metadata": {},
   "outputs": [],
   "source": [
    "%%time\n",
    "import boto3\n",
    "import sagemaker\n",
    "from sagemaker import get_execution_role\n",
    "from sagemaker.estimator import Estimator\n",
    "\n",
    "role = get_execution_role() # provide a pre-existing role ARN as an alternative to creating a new role\n",
    "print(f'SageMaker Execution Role:{role}')\n",
    "\n",
    "client = boto3.client('sts')\n",
    "account = client.get_caller_identity()['Account']\n",
    "print(f'AWS account:{account}')\n",
    "\n",
    "session = boto3.session.Session()\n",
    "region = session.region_name\n",
    "print(f'AWS region:{region}')"
   ]
  },
  {
   "cell_type": "code",
   "execution_count": null,
   "metadata": {},
   "outputs": [],
   "source": [
    "s3_bucket = sagemaker.Session().default_bucket() \n",
    "\n",
    "# we use data parallel to train a model on a single instance as https://github.com/ifzhang/FairMOT\n",
    "version_name = \"dp\"\n",
    "\n",
    "# Currently we support MOT17 and MOT20\n",
    "dataset_name= \"MOT17\" # Options: MOT17, MOT20\n",
    "\n",
    "# 0: set all data to train data, 1: set second half part to validation data\n",
    "# set 1 when executing hyperparameter tuning job\n",
    "half_val = 1\n",
    "\n",
    "training_image = f\"{account}.dkr.ecr.{region}.amazonaws.com/fairmot-sagemaker:pytorch1.8-{version_name}\""
   ]
  },
  {
   "cell_type": "markdown",
   "metadata": {},
   "source": [
    "## 2. Stage dataset in Amazon S3\n",
    "\n",
    "We use the dataset from [MOT Challenge](https://motchallenge.net) for training. First, we download the dataset to this notebook instance. By referencing [DATA ZOO](https://github.com/Zhongdao/Towards-Realtime-MOT/blob/master/DATASET_ZOO.md), we prepare the dataset which can be trained by `FairMOT`, and upload the processed dataset to the Amazon [S3 bucket](https://docs.aws.amazon.com/en_pv/AmazonS3/latest/gsg/CreatingABucket.html)."
   ]
  },
  {
   "cell_type": "code",
   "execution_count": null,
   "metadata": {},
   "outputs": [],
   "source": [
    "!cat ./prepare-s3-bucket.sh"
   ]
  },
  {
   "cell_type": "markdown",
   "metadata": {},
   "source": [
    "Using your *Amazon S3 bucket*, *dataset name* and *validation flag* as arguments, run the script [`prepare-s3-bucket.sh`](prepare-s3-bucket.sh). You can skip this step if you have already uploaded the dataset to S3 bucket."
   ]
  },
  {
   "cell_type": "code",
   "execution_count": null,
   "metadata": {
    "scrolled": true
   },
   "outputs": [],
   "source": [
    "%%time\n",
    "!./prepare-s3-bucket.sh {s3_bucket} {dataset_name} {half_val}"
   ]
  },
  {
   "cell_type": "markdown",
   "metadata": {},
   "source": [
    "## 3. Build and push SageMaker training image\n",
    "We use the implementation of [FairMOT](https://github.com/ifzhang/FairMOT) to create our own container, and push the image to [Amazon ECR](https://aws.amazon.com/ecr/).\n",
    "\n",
    "### Docker Environment Preparation\n",
    "Because the volume size of container may be larger than the available size in root directory of the notebook instance, we need to put the directory of docker data into the ```/home/ec2-user/SageMaker/docker``` directory.\n",
    "\n",
    "By default, the root directory of docker is set as ```/var/lib/docker/```. We need to change the directory of docker to ```/home/ec2-user/SageMaker/docker```."
   ]
  },
  {
   "cell_type": "code",
   "execution_count": null,
   "metadata": {},
   "outputs": [],
   "source": [
    "!cat /etc/docker/daemon.json"
   ]
  },
  {
   "cell_type": "code",
   "execution_count": null,
   "metadata": {},
   "outputs": [],
   "source": [
    "!bash ./prepare-docker.sh"
   ]
  },
  {
   "cell_type": "markdown",
   "metadata": {},
   "source": [
    "### Build training image for FairMOT\n",
    "Use script [`./container/build_tools/build_and_push.sh`](./container-dp/build_tools/build_and_push.sh) to build and push the FairMOT training image to [Amazon ECR](https://aws.amazon.com/ecr/)."
   ]
  },
  {
   "cell_type": "code",
   "execution_count": null,
   "metadata": {
    "scrolled": true
   },
   "outputs": [],
   "source": [
    "!cat ./container-{version_name}/build_tools/build_and_push.sh"
   ]
  },
  {
   "cell_type": "markdown",
   "metadata": {},
   "source": [
    "Using your *AWS region* as argument, run the cell below."
   ]
  },
  {
   "cell_type": "code",
   "execution_count": null,
   "metadata": {
    "scrolled": true
   },
   "outputs": [],
   "source": [
    "%%time\n",
    "!bash ./container-{version_name}/build_tools/build_and_push.sh {region}"
   ]
  },
  {
   "cell_type": "markdown",
   "metadata": {},
   "source": [
    "## 4. Define SageMaker Data Channels\n",
    "In this step, we define SageMaker `train` data channel. "
   ]
  },
  {
   "cell_type": "code",
   "execution_count": null,
   "metadata": {},
   "outputs": [],
   "source": [
    "from sagemaker.inputs import TrainingInput\n",
    "prefix = \"fairmot/sagemaker\" #prefix in your S3 bucket\n",
    "s3train = f's3://{s3_bucket}/{prefix}/input/train'\n",
    "\n",
    "train_input = TrainingInput(s3_data=s3train, \n",
    "                            distribution=\"FullyReplicated\", \n",
    "                            s3_data_type='S3Prefix', \n",
    "                            input_mode='File')\n",
    "\n",
    "data_channels = {'train': train_input}"
   ]
  },
  {
   "cell_type": "markdown",
   "metadata": {},
   "source": [
    "Next, we define the model output location in S3 bucket."
   ]
  },
  {
   "cell_type": "code",
   "execution_count": null,
   "metadata": {},
   "outputs": [],
   "source": [
    "s3_output_location = f's3://{s3_bucket}/{prefix}/output'"
   ]
  },
  {
   "cell_type": "markdown",
   "metadata": {},
   "source": [
    "## 5. Configure Hyper-parameters\n",
    "In this step, we define the hyper-parameters used in FairMOT. Jump to [8.Hyperparameter Tuning](#hyperparametertuning) if you want to run hyperparameter tuning job.\n",
    "\n",
    "<table align='left'>\n",
    "    <caption>FairMOT  Hyper-parameters</caption>\n",
    "    <tr>\n",
    "    <th style=\"text-align:center\">Hyper-parameter</th>\n",
    "    <th style=\"text-align:center\">Description</th>\n",
    "    <th style=\"text-align:center\">Default</th>\n",
    "    </tr>\n",
    "     <tr>\n",
    "        <td style=\"text-align:center\">arch</td>\n",
    "        <td style=\"text-align:left\">model architecture. Currently tested resdcn_34 | resdcn_50 | resfpndcn_34 | dla_34 | hrnet_18</td>\n",
    "        <td style=\"text-align:center\">'dla_34'</td>\n",
    "    </tr>\n",
    "    <tr>\n",
    "        <td style=\"text-align:center\">load_model</td>\n",
    "        <td style=\"text-align:left\">pretrained model</td>\n",
    "        <td style=\"text-align:center\">fairmot_dla34.pth</td>\n",
    "    </tr>\n",
    "    <tr>\n",
    "        <td style=\"text-align:center\">head_conv</td>\n",
    "        <td style=\"text-align:left\">conv layer channels for output head 0 for no conv layer -1 for default setting: 256 for resnets and 256 for dla.</td>\n",
    "        <td style=\"text-align:center\">-1</td>\n",
    "    </tr>\n",
    "    <tr>\n",
    "        <td style=\"text-align:center\">down_ratio</td>\n",
    "        <td style=\"text-align:left\">output stride. Currently only supports 4.</td>\n",
    "        <td style=\"text-align:center\">4</td>\n",
    "    </tr>\n",
    "    <tr>\n",
    "        <td style=\"text-align:center\">input_res</td>\n",
    "        <td style=\"text-align:left\">input height and width. -1 for default from dataset. Will be overriden by input_h | input_w</td>\n",
    "        <td style=\"text-align:center\">-1</td>\n",
    "    </tr>\n",
    "    <tr>\n",
    "        <td style=\"text-align:center\">input_h</td>\n",
    "        <td style=\"text-align:left\">input height</td>\n",
    "        <td style=\"text-align:center\">608</td>\n",
    "    </tr>\n",
    "    <tr>\n",
    "        <td style=\"text-align:center\">input_w</td>\n",
    "        <td style=\"text-align:left\">input width</td>\n",
    "        <td style=\"text-align:center\">1088</td>\n",
    "    </tr>\n",
    "    <tr>\n",
    "        <td style=\"text-align:center\">lr</td>\n",
    "        <td style=\"text-align:left\">learning rate for batch size 12.</td>\n",
    "        <td style=\"text-align:center\">1e-4</td>\n",
    "    </tr>\n",
    "    <tr>\n",
    "        <td style=\"text-align:center\">lr_step</td>\n",
    "        <td style=\"text-align:left\">drop learning rate by 10.</td>\n",
    "        <td style=\"text-align:center\">'20'</td>\n",
    "    </tr>\n",
    "    <tr>\n",
    "        <td style=\"text-align:center\">num_epochs</td>\n",
    "        <td style=\"text-align:left\">total training epochs.</td>\n",
    "        <td style=\"text-align:center\">30</td>\n",
    "    </tr>\n",
    "    <tr>\n",
    "        <td style=\"text-align:center\">batch_size</td>\n",
    "        <td style=\"text-align:left\">batch size, 8 is recommended when using ml.p3 instance</td>\n",
    "        <td style=\"text-align:center\">8</td>\n",
    "    </tr>\n",
    "    <tr>\n",
    "        <td style=\"text-align:center\">num_iters</td>\n",
    "        <td style=\"text-align:left\">default: #samples / batch_size.</td>\n",
    "        <td style=\"text-align:center\">-1</td>\n",
    "    </tr>\n",
    "    <tr>\n",
    "        <td style=\"text-align:center\">val_intervals</td>\n",
    "        <td style=\"text-align:left\">number of epochs to run validation.</td>\n",
    "        <td style=\"text-align:center\">5</td>\n",
    "    </tr>\n",
    "    <tr>\n",
    "        <td style=\"text-align:center\">reg_loss</td>\n",
    "        <td style=\"text-align:left\">regression loss: sl1 | l1 | l2</td>\n",
    "        <td style=\"text-align:center\">'l1'</td>\n",
    "    </tr>\n",
    "    <tr>\n",
    "        <td style=\"text-align:center\">hm_weight</td>\n",
    "        <td style=\"text-align:left\">loss weight for keypoint heatmaps.</td>\n",
    "        <td style=\"text-align:center\">1</td>\n",
    "    </tr>\n",
    "    <tr>\n",
    "        <td style=\"text-align:center\">off_weight</td>\n",
    "        <td style=\"text-align:left\">loss weight for keypoint local offsets.</td>\n",
    "        <td style=\"text-align:center\">1</td>\n",
    "    </tr>\n",
    "    <tr>\n",
    "        <td style=\"text-align:center\">wh_weight</td>\n",
    "        <td style=\"text-align:left\">loss weight for bounding box size.</td>\n",
    "        <td style=\"text-align:center\">0.1</td>\n",
    "    </tr>\n",
    "    <tr>\n",
    "        <td style=\"text-align:center\">id_loss</td>\n",
    "        <td style=\"text-align:left\">reid loss: ce | focal</td>\n",
    "        <td style=\"text-align:center\">'ce'</td>\n",
    "    </tr>\n",
    "    <tr>\n",
    "        <td style=\"text-align:center\">id_weight</td>\n",
    "        <td style=\"text-align:left\">loss weight for id</td>\n",
    "        <td style=\"text-align:center\">1</td>\n",
    "    </tr>\n",
    "    <tr>\n",
    "        <td style=\"text-align:center\">reid_dim</td>\n",
    "        <td style=\"text-align:left\">feature dim for reid</td>\n",
    "        <td style=\"text-align:center\">128</td>\n",
    "    </tr>\n",
    "</table>"
   ]
  },
  {
   "cell_type": "code",
   "execution_count": null,
   "metadata": {},
   "outputs": [],
   "source": [
    "hyperparameters = {\n",
    "                    \"batch_size\": 8,\n",
    "                    \"num_epochs\": 20,\n",
    "                    \"val_intervals\": 1,\n",
    "                    \"load_model\": 'fairmot_dla34.pth',\n",
    "                    \"data_name\": \"MOT17\"\n",
    "                  }"
   ]
  },
  {
   "cell_type": "markdown",
   "metadata": {},
   "source": [
    "## 6. Define Training Metrics\n",
    "Next, we define the regular expressions that SageMaker uses to extract algorithm metrics from training logs and send them to [AWS CloudWatch metrics](https://docs.aws.amazon.com/en_pv/AmazonCloudWatch/latest/monitoring/working_with_metrics.html). These algorithm metrics are visualized in SageMaker console."
   ]
  },
  {
   "cell_type": "code",
   "execution_count": null,
   "metadata": {},
   "outputs": [],
   "source": [
    "metric_definitions=[\n",
    "            {\n",
    "                \"Name\": \"train_loss\",\n",
    "                \"Regex\": \"\\|train_loss\\\\s*(\\\\S+).*\"\n",
    "            },\n",
    "            {\n",
    "                \"Name\": \"train_hm_loss\",\n",
    "                \"Regex\": \"\\|train_hm_loss\\\\s*(\\\\S+).*\"\n",
    "            },\n",
    "            {\n",
    "                \"Name\": \"train_wh_loss\",\n",
    "                \"Regex\": \"\\|train_wh_loss\\\\s*(\\\\S+).*\"\n",
    "            },\n",
    "            {\n",
    "                \"Name\": \"train_id_loss\",\n",
    "                \"Regex\": \"\\|train_id_loss\\\\s*(\\\\S+).*\"\n",
    "            },\n",
    "            {\n",
    "                \"Name\": \"train_off_loss\",\n",
    "                \"Regex\": \"\\|train_off_loss\\\\s*(\\\\S+).*\"\n",
    "            },\n",
    "            {\n",
    "                \"Name\": \"val_loss\",\n",
    "                \"Regex\": \"\\|val_loss\\\\s*(\\\\S+).*\"\n",
    "            },\n",
    "            {\n",
    "                \"Name\": \"val_hm_loss\",\n",
    "                \"Regex\": \"\\|val_hm_loss\\\\s*(\\\\S+).*\"\n",
    "            },\n",
    "            {\n",
    "                \"Name\": \"val_wh_loss\",\n",
    "                \"Regex\": \"\\|val_wh_loss\\\\s*(\\\\S+).*\"\n",
    "            },\n",
    "            {\n",
    "                \"Name\": \"val_id_loss\",\n",
    "                \"Regex\": \"\\|val_id_loss\\\\s*(\\\\S+).*\"\n",
    "            }, \n",
    "            {\n",
    "                \"Name\": \"val_off_loss\",\n",
    "                \"Regex\": \"\\|val_off_loss\\\\s*(\\\\S+).*\"\n",
    "            }\n",
    "    ]"
   ]
  },
  {
   "cell_type": "markdown",
   "metadata": {},
   "source": [
    "## 7. Define SageMaker Training Job\n",
    "\n",
    "Next, we use SageMaker [Estimator](https://sagemaker.readthedocs.io/en/stable/estimators.html) API to define a SageMaker Training Job."
   ]
  },
  {
   "cell_type": "code",
   "execution_count": null,
   "metadata": {},
   "outputs": [],
   "source": [
    "sagemaker_session = sagemaker.session.Session(boto_session=session)\n",
    "\n",
    "fairmot_estimator = Estimator(image_uri=training_image,\n",
    "                                role=role, \n",
    "                                instance_count=1,\n",
    "                                instance_type='ml.p3.16xlarge',\n",
    "                                volume_size = 100,\n",
    "                                max_run = 40000,\n",
    "                                output_path=s3_output_location,\n",
    "                                sagemaker_session=sagemaker_session, \n",
    "                                hyperparameters = hyperparameters,\n",
    "                                metric_definitions = metric_definitions,\n",
    "                               )"
   ]
  },
  {
   "cell_type": "markdown",
   "metadata": {},
   "source": [
    "Finally, we launch the SageMaker training job."
   ]
  },
  {
   "cell_type": "code",
   "execution_count": null,
   "metadata": {},
   "outputs": [],
   "source": [
    "import time\n",
    "\n",
    "job_name=f'fairmot-{version_name}-{int(time.time())}'\n",
    "print(f\"Launching Training Job: {job_name}\")\n",
    "\n",
    "# set wait=True below if you want to print logs in cell output\n",
    "fairmot_estimator.fit(inputs=data_channels, job_name=job_name, logs=\"All\", wait=False)"
   ]
  },
  {
   "cell_type": "markdown",
   "metadata": {},
   "source": [
    "Check the metrics of the training job in the `Training Job` console."
   ]
  },
  {
   "cell_type": "code",
   "execution_count": null,
   "metadata": {},
   "outputs": [],
   "source": [
    "from IPython.core.display import display, HTML\n",
    "\n",
    "display(\n",
    "    HTML(\n",
    "    f'<b><a href=\"https://console.aws.amazon.com/sagemaker/home?region={region}#/jobs/{job_name}\">Check the status of training job</a></b>'\n",
    "    )\n",
    ")"
   ]
  },
  {
   "cell_type": "markdown",
   "metadata": {},
   "source": [
    "**Once above training job completed**, we store the S3 URI of the model artifact in IPython’s database as a variable. This variable will be used to serve model."
   ]
  },
  {
   "cell_type": "code",
   "execution_count": null,
   "metadata": {},
   "outputs": [],
   "source": [
    "s3_model_uri = fairmot_estimator.model_data\n",
    "%store s3_model_uri"
   ]
  },
  {
   "cell_type": "markdown",
   "metadata": {},
   "source": [
    "<a id='hyperparametertuning'></a>\n",
    "## 8.Hyperparameter Tuning\n",
    "In this step, we define and launch Hyperparameter tuning job. `MaxParallelTrainingJobs` should be <span style=\"color:red;\">**equal or less than the limit of training job instance**</span>. We choose `id_loss` and `lr` for tuning and set `val_loss` to the objective metric. \n",
    "\n",
    "As [Best Practices for Hyperparameter Tuning](https://docs.aws.amazon.com/sagemaker/latest/dg/automatic-model-tuning-considerations.html) suggests, a tuning job improves only through successive rounds of experiments. Therefore, smaller `MaxParallelTrainingJobs` and larger `MaxNumberOfTrainingJobs` may lead to a better result. When `MaxParallelTrainingJobs` is equal to `MaxNumberOfTrainingJobs`, searching strategy will become `Random Search` even setting it as `Bayesian Search`. In this demonstration, we set `MaxParallelTrainingJobs` to 1.\n",
    "\n",
    "For `MaxNumberOfTrainingJobs`, setting a larger `MaxNumberOfTrainingJobs` cat get the better result, but it takes a longer time. We set `MaxNumberOfTrainingJobs` to the small value 3 to show how SageMaker Hyperparameter works. When you train a model on your own dataset, we recommend to set `MaxNumberOfTrainingJobs` to a larger value.\n",
    "\n",
    "For more details on Hyperparameter tuning with SageMaker, you can reference [How Hyperparameter Tuning Works](https://docs.aws.amazon.com/sagemaker/latest/dg/automatic-model-tuning-how-it-works.html)."
   ]
  },
  {
   "cell_type": "code",
   "execution_count": null,
   "metadata": {},
   "outputs": [],
   "source": [
    "import json\n",
    "from time import gmtime, strftime\n",
    "\n",
    "tuning_job_name = f'fairmot-tuningjob-{version_name}-' + strftime(\"%d-%H-%M-%S\", gmtime())\n",
    "\n",
    "print(tuning_job_name)\n",
    "\n",
    "tuning_job_config = {\n",
    "    \"ParameterRanges\": {\n",
    "      \"CategoricalParameterRanges\": [\n",
    "          {\n",
    "              \"Name\": \"id_loss\",\n",
    "              \"Values\": ['ce', 'focal']\n",
    "          }\n",
    "      ],\n",
    "      \"ContinuousParameterRanges\": [\n",
    "        {\n",
    "          \"Name\": \"lr\",\n",
    "          \"MaxValue\": \"1e-3\",\n",
    "          \"MinValue\": \"1e-5\",\n",
    "          \"ScalingType\": \"Auto\"\n",
    "        }\n",
    "      ]\n",
    "    },\n",
    "    \"ResourceLimits\": {\n",
    "      \"MaxNumberOfTrainingJobs\": 3,\n",
    "      \"MaxParallelTrainingJobs\": 1\n",
    "    },\n",
    "    \"Strategy\": \"Bayesian\",\n",
    "    \"HyperParameterTuningJobObjective\": {\n",
    "      \"MetricName\": \"val_loss\",\n",
    "      \"Type\": \"Minimize\"\n",
    "    }\n",
    "  }"
   ]
  },
  {
   "cell_type": "code",
   "execution_count": null,
   "metadata": {},
   "outputs": [],
   "source": [
    "training_job_definition = {\n",
    "    \"AlgorithmSpecification\": {\n",
    "      \"MetricDefinitions\": [\n",
    "            {\n",
    "                \"Name\": \"train_loss\",\n",
    "                \"Regex\": \"\\|train_loss\\\\s*(\\\\S+).*\"\n",
    "            },\n",
    "            {\n",
    "                \"Name\": \"train_hm_loss\",\n",
    "                \"Regex\": \"\\|train_hm_loss\\\\s*(\\\\S+).*\"\n",
    "            },\n",
    "            {\n",
    "                \"Name\": \"train_wh_loss\",\n",
    "                \"Regex\": \"\\|train_wh_loss\\\\s*(\\\\S+).*\"\n",
    "            },\n",
    "            {\n",
    "                \"Name\": \"train_id_loss\",\n",
    "                \"Regex\": \"\\|train_id_loss\\\\s*(\\\\S+).*\"\n",
    "            },\n",
    "            {\n",
    "                \"Name\": \"train_off_loss\",\n",
    "                \"Regex\": \"\\|train_off_loss\\\\s*(\\\\S+).*\"\n",
    "            },\n",
    "            {\n",
    "                \"Name\": \"val_loss\",\n",
    "                \"Regex\": \"\\|val_loss\\\\s*(\\\\S+).*\"\n",
    "            },\n",
    "            {\n",
    "                \"Name\": \"val_hm_loss\",\n",
    "                \"Regex\": \"\\|val_hm_loss\\\\s*(\\\\S+).*\"\n",
    "            },\n",
    "            {\n",
    "                \"Name\": \"val_wh_loss\",\n",
    "                \"Regex\": \"\\|val_wh_loss\\\\s*(\\\\S+).*\"\n",
    "            },\n",
    "            {\n",
    "                \"Name\": \"val_id_loss\",\n",
    "                \"Regex\": \"\\|val_id_loss\\\\s*(\\\\S+).*\"\n",
    "            }, \n",
    "            {\n",
    "                \"Name\": \"val_off_loss\",\n",
    "                \"Regex\": \"\\|val_off_loss\\\\s*(\\\\S+).*\"\n",
    "            }\n",
    "      ],\n",
    "      \"TrainingImage\": training_image,\n",
    "      \"TrainingInputMode\": \"File\"\n",
    "    },\n",
    "    \"InputDataConfig\": [\n",
    "        {\n",
    "            \"ChannelName\": \"train\",\n",
    "            \"DataSource\": {\n",
    "                \"S3DataSource\": {\n",
    "                    \"S3DataType\": \"S3Prefix\",\n",
    "                    \"S3Uri\": s3train,\n",
    "                    \"S3DataDistributionType\": \"FullyReplicated\"\n",
    "                }\n",
    "            },\n",
    "            \"CompressionType\": \"None\",\n",
    "            \"RecordWrapperType\": \"None\"\n",
    "        }\n",
    "    ],\n",
    "    \"OutputDataConfig\": {\n",
    "      \"S3OutputPath\": s3_output_location\n",
    "    },\n",
    "    \"ResourceConfig\": {\n",
    "      \"InstanceCount\": 1,\n",
    "      \"InstanceType\": \"ml.p3.16xlarge\",\n",
    "      \"VolumeSizeInGB\": 100\n",
    "    },\n",
    "    \"RoleArn\": role,\n",
    "    \"StaticHyperParameters\": {\n",
    "        \"num_epochs\":\"20\",\n",
    "        \"val_intervals\":\"1\",\n",
    "        \"batch_size\":\"8\",\n",
    "        \"load_model\": 'fairmot_dla34.pth',\n",
    "        \"data_name\": \"MOT17\"\n",
    "        \n",
    "    },\n",
    "    \"StoppingCondition\": {\n",
    "      \"MaxRuntimeInSeconds\": 72000\n",
    "    }\n",
    "}"
   ]
  },
  {
   "cell_type": "markdown",
   "metadata": {},
   "source": [
    "Then we launch the defined hyperparameter tuning job."
   ]
  },
  {
   "cell_type": "code",
   "execution_count": null,
   "metadata": {},
   "outputs": [],
   "source": [
    "smclient = boto3.client('sagemaker')\n",
    "smclient.create_hyper_parameter_tuning_job(HyperParameterTuningJobName = tuning_job_name,\n",
    "                                               HyperParameterTuningJobConfig = tuning_job_config,\n",
    "                                               TrainingJobDefinition = training_job_definition)"
   ]
  },
  {
   "cell_type": "code",
   "execution_count": null,
   "metadata": {},
   "outputs": [],
   "source": [
    "smclient.describe_hyper_parameter_tuning_job(HyperParameterTuningJobName = tuning_job_name)['HyperParameterTuningJobStatus']"
   ]
  },
  {
   "cell_type": "markdown",
   "metadata": {},
   "source": [
    "Check the status of the hyperparamter tuning job in the `Hyperparameter tuning jobs`console."
   ]
  },
  {
   "cell_type": "code",
   "execution_count": null,
   "metadata": {},
   "outputs": [],
   "source": [
    "from IPython.core.display import display, HTML\n",
    "\n",
    "display(\n",
    "    HTML(\n",
    "    f'<b><a href=\"https://console.aws.amazon.com/sagemaker/home?region={region}#/hyper-tuning-jobs/{tuning_job_name}\">Check hyperparameter tuning job</a></b>'\n",
    "    )\n",
    ")"
   ]
  }
 ],
 "metadata": {
  "kernelspec": {
   "display_name": "conda_pytorch_p39",
   "language": "python",
   "name": "conda_pytorch_p39"
  },
  "language_info": {
   "codemirror_mode": {
    "name": "ipython",
    "version": 3
   },
   "file_extension": ".py",
   "mimetype": "text/x-python",
   "name": "python",
   "nbconvert_exporter": "python",
   "pygments_lexer": "ipython3",
   "version": "3.9.13"
  }
 },
 "nbformat": 4,
 "nbformat_minor": 4
}
